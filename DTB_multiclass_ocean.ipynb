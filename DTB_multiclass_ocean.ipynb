{
  "cells": [
    {
      "cell_type": "markdown",
      "metadata": {
        "id": "view-in-github",
        "colab_type": "text"
      },
      "source": [
        "<a href=\"https://colab.research.google.com/github/joycerlz/bigfive-text-classification/blob/main/DTB_multiclass_ocean.ipynb\" target=\"_parent\"><img src=\"https://colab.research.google.com/assets/colab-badge.svg\" alt=\"Open In Colab\"/></a>"
      ]
    },
    {
      "cell_type": "markdown",
      "metadata": {
        "id": "39eRofM_wZl6"
      },
      "source": [
        "## DistilBERT for Multiclass Text Classification\n",
        "Using the oceans dataset"
      ]
    },
    {
      "cell_type": "markdown",
      "source": [
        "## Import libraries and dataset"
      ],
      "metadata": {
        "id": "O5Fsr2RXml4F"
      }
    },
    {
      "cell_type": "code",
      "execution_count": null,
      "metadata": {
        "execution": {
          "iopub.execute_input": "2022-09-23T08:06:44.464333Z",
          "iopub.status.busy": "2022-09-23T08:06:44.463179Z",
          "iopub.status.idle": "2022-09-23T08:06:47.251269Z",
          "shell.execute_reply": "2022-09-23T08:06:47.250110Z",
          "shell.execute_reply.started": "2022-09-23T08:06:44.464293Z"
        },
        "trusted": true,
        "id": "tA2a8QjAwZl8"
      },
      "outputs": [],
      "source": [
        "from transformers import DistilBertTokenizer\n",
        "from transformers import TFDistilBertForSequenceClassification\n",
        "\n",
        "import tensorflow as tf\n",
        "import pandas as pd\n",
        "import numpy as np\n",
        "import matplotlib.pyplot as plt\n",
        "from matplotlib.ticker import PercentFormatter\n",
        "\n",
        "from tensorflow.keras.callbacks import EarlyStopping\n",
        "from tensorflow.keras.models import Model\n",
        "from tensorflow.keras.layers import Dense, Dropout, Input\n",
        "from tensorflow.keras.regularizers import l2\n",
        "\n",
        "from sklearn.metrics import classification_report, ConfusionMatrixDisplay, confusion_matrix\n",
        "from sklearn.model_selection import train_test_split"
      ]
    },
    {
      "cell_type": "code",
      "execution_count": null,
      "metadata": {
        "execution": {
          "iopub.execute_input": "2022-09-23T08:06:47.261633Z",
          "iopub.status.busy": "2022-09-23T08:06:47.260640Z",
          "iopub.status.idle": "2022-09-23T08:06:47.330921Z",
          "shell.execute_reply": "2022-09-23T08:06:47.329991Z",
          "shell.execute_reply.started": "2022-09-23T08:06:47.261592Z"
        },
        "trusted": true,
        "id": "dSIo0tlswZl9"
      },
      "outputs": [],
      "source": [
        "df = pd.read_csv('ocean_longer.csv')\n",
        "df.head()"
      ]
    },
    {
      "cell_type": "code",
      "source": [
        "def drop_long_texts(df):\n",
        "    df['word_count'] = df['text'].apply(lambda x: len(x.split()))\n",
        "    df_filtered = df[df['word_count'] <= 512]\n",
        "    df_filtered.drop(columns=['word_count'], inplace=True)\n",
        "\n",
        "    return df_filtered\n",
        "\n",
        "def balance_dataset(df):\n",
        "    # Group the DataFrame by 'label' and sample approximately 600 rows from each group\n",
        "    df_balanced = df.groupby('labels', group_keys=False).apply(lambda x: x.sample(min(len(x), 1000)))\n",
        "\n",
        "    return df_balanced"
      ],
      "metadata": {
        "id": "yOtzWxDvNTYj"
      },
      "execution_count": null,
      "outputs": []
    },
    {
      "cell_type": "code",
      "source": [
        "df = drop_long_texts(df)\n",
        "df = balance_dataset(df)"
      ],
      "metadata": {
        "id": "cKtI-SDiNae-"
      },
      "execution_count": null,
      "outputs": []
    },
    {
      "cell_type": "code",
      "source": [
        "df['labels'].value_counts()"
      ],
      "metadata": {
        "id": "giSqFH5wMU0f"
      },
      "execution_count": null,
      "outputs": []
    },
    {
      "cell_type": "code",
      "execution_count": null,
      "metadata": {
        "execution": {
          "iopub.execute_input": "2022-09-23T08:06:47.332851Z",
          "iopub.status.busy": "2022-09-23T08:06:47.332489Z",
          "iopub.status.idle": "2022-09-23T08:06:47.339025Z",
          "shell.execute_reply": "2022-09-23T08:06:47.338074Z",
          "shell.execute_reply.started": "2022-09-23T08:06:47.332815Z"
        },
        "trusted": true,
        "id": "asVjEqojwZl9"
      },
      "outputs": [],
      "source": [
        "df.shape"
      ]
    },
    {
      "cell_type": "markdown",
      "metadata": {
        "id": "RlJ74YfawZl-"
      },
      "source": [
        "# Split to train, validation, and test; tokenize"
      ]
    },
    {
      "cell_type": "code",
      "source": [
        "data_texts = df['text'].to_list()\n",
        "data_labels = df['labels'].to_list()"
      ],
      "metadata": {
        "id": "oFcF_gRjw8uq"
      },
      "execution_count": null,
      "outputs": []
    },
    {
      "cell_type": "code",
      "execution_count": null,
      "metadata": {
        "id": "IqBapiMwwZl-"
      },
      "outputs": [],
      "source": [
        "train_texts, val_texts, train_labels, val_labels = train_test_split(data_texts, data_labels, test_size=0.2, random_state=42)\n",
        "val_texts, test_texts, val_labels, test_labels = train_test_split(val_texts, val_labels, test_size=0.5, random_state=42)"
      ]
    },
    {
      "cell_type": "code",
      "source": [
        "print(\"Train set size:\", len(train_texts))\n",
        "print(\"Validation set size:\", len(val_texts))\n",
        "print(\"Test set size:\", len(test_texts))"
      ],
      "metadata": {
        "id": "9CR9rlTmjD0P"
      },
      "execution_count": null,
      "outputs": []
    },
    {
      "cell_type": "code",
      "execution_count": null,
      "metadata": {
        "id": "bBRtuookwZl-"
      },
      "outputs": [],
      "source": [
        "tokenizer = DistilBertTokenizer.from_pretrained('distilbert-base-uncased')"
      ]
    },
    {
      "cell_type": "code",
      "execution_count": null,
      "metadata": {
        "id": "c7O9DOQ0wZl-"
      },
      "outputs": [],
      "source": [
        "train_encodings = tokenizer(train_texts, truncation=True, padding=True, max_length=512)\n",
        "val_encodings = tokenizer(val_texts, truncation=True, padding=True, max_length=512)\n",
        "test_encodings = tokenizer(test_texts, truncation=True, padding=True, max_length=512, return_tensors=\"tf\")\n",
        "\n",
        "train_dataset = tf.data.Dataset.from_tensor_slices( (dict(train_encodings), train_labels) )\n",
        "val_dataset = tf.data.Dataset.from_tensor_slices( (dict(val_encodings), val_labels) )\n",
        "test_dataset = tf.data.Dataset.from_tensor_slices( (dict(test_encodings), test_labels) )\n",
        "\n",
        "train_dataset = train_dataset.batch(32)\n",
        "val_dataset = val_dataset.batch(32)"
      ]
    },
    {
      "cell_type": "code",
      "source": [
        "print(train_dataset)"
      ],
      "metadata": {
        "id": "abV47UvXKBxJ",
        "outputId": "66ca76a9-b83e-4647-ba06-490891df4809",
        "colab": {
          "base_uri": "https://localhost:8080/"
        }
      },
      "execution_count": null,
      "outputs": [
        {
          "output_type": "stream",
          "name": "stdout",
          "text": [
            "<_BatchDataset element_spec=({'input_ids': TensorSpec(shape=(None, 512), dtype=tf.int32, name=None), 'attention_mask': TensorSpec(shape=(None, 512), dtype=tf.int32, name=None)}, TensorSpec(shape=(None,), dtype=tf.int32, name=None))>\n"
          ]
        }
      ]
    },
    {
      "cell_type": "markdown",
      "metadata": {
        "id": "lxdfMqu4wZl-"
      },
      "source": [
        "# Fine tune the model"
      ]
    },
    {
      "cell_type": "code",
      "execution_count": null,
      "metadata": {
        "id": "GVDmbtK4wZl_"
      },
      "outputs": [],
      "source": [
        "base_model = TFDistilBertForSequenceClassification.from_pretrained('distilbert-base-uncased', num_labels=5)"
      ]
    },
    {
      "cell_type": "code",
      "source": [
        "input_layer = Input(shape=(None,), dtype=tf.int32, name='input_ids')\n",
        "attention_mask_layer = Input(shape=(None,), dtype=tf.int32, name='attention_mask')\n",
        "\n",
        "distilbert_output = base_model.distilbert([input_layer, attention_mask_layer])[0][:, 0, :]\n",
        "output = Dropout(0.1)(distilbert_output)\n",
        "output = Dense(128, activation='relu', kernel_regularizer=l2(0.01))(output)\n",
        "output = Dropout(0.1)(output)\n",
        "output = Dense(5, activation='softmax')(output)\n",
        "\n",
        "# Create more complexd model\n",
        "com_model = Model(inputs=[input_layer, attention_mask_layer], outputs=output)\n",
        "com_model.summary()"
      ],
      "metadata": {
        "id": "Vpn5s8ygu66L"
      },
      "execution_count": null,
      "outputs": []
    },
    {
      "cell_type": "code",
      "source": [
        "early_stopping = EarlyStopping(monitor=\"val_loss\", patience=4, mode=\"min\", restore_best_weights=True)\n",
        "com_model.compile(optimizer='Adam', loss='sparse_categorical_crossentropy', metrics=['accuracy'])\n",
        "com_model.optimizer.learning_rate.assign(3e-5)"
      ],
      "metadata": {
        "id": "Rxv_fbHy2BDN",
        "colab": {
          "base_uri": "https://localhost:8080/"
        },
        "outputId": "2135eaa6-4bef-42fb-be7d-6d18c8d96038"
      },
      "execution_count": null,
      "outputs": [
        {
          "output_type": "execute_result",
          "data": {
            "text/plain": [
              "<tf.Variable 'UnreadVariable' shape=() dtype=float32, numpy=3e-05>"
            ]
          },
          "metadata": {},
          "execution_count": 35
        }
      ]
    },
    {
      "cell_type": "code",
      "source": [
        "com_model_history = com_model.fit(train_dataset, validation_data=val_dataset, epochs=50, callbacks=[early_stopping])"
      ],
      "metadata": {
        "id": "hBDa8f9q2i8X"
      },
      "execution_count": null,
      "outputs": []
    },
    {
      "cell_type": "markdown",
      "source": [
        "## Evaluate"
      ],
      "metadata": {
        "id": "o_caqJ8Hm2dX"
      }
    },
    {
      "cell_type": "code",
      "source": [
        "def plotAccuracy(model_history):\n",
        "  plt.plot(model_history.history['accuracy'], label= 'accuracy')\n",
        "  plt.plot(model_history.history['val_accuracy'], label='val_accuracy')\n",
        "  plt.gca().yaxis.set_major_formatter(PercentFormatter(1))\n",
        "  plt.xlabel('Epoch')\n",
        "  plt.ylabel('Accuracy')\n",
        "  plt.title('Training Accuracy')\n",
        "  plt.legend()\n",
        "\n",
        "plotAccuracy(com_model_history)"
      ],
      "metadata": {
        "id": "-Pc4N3dNw-Gq"
      },
      "execution_count": null,
      "outputs": []
    },
    {
      "cell_type": "code",
      "source": [
        "def plotLoss(model_history):\n",
        "  plt.plot(model_history.history['loss'], label= 'loss')\n",
        "  plt.plot(model_history.history['val_loss'], label='val_loss')\n",
        "  plt.xlabel('Epoch')\n",
        "  plt.ylabel('Cross-Entropy Loss')\n",
        "  plt.title('Training Loss')\n",
        "  plt.legend()\n",
        "\n",
        "plotLoss(com_model_history)"
      ],
      "metadata": {
        "id": "hxVWEJFglr2d"
      },
      "execution_count": null,
      "outputs": []
    },
    {
      "cell_type": "code",
      "source": [
        "y_pred = []\n",
        "for batch in test_dataset:\n",
        "    input_ids = batch[0]['input_ids'][tf.newaxis, :]\n",
        "    attention_mask = batch[0]['attention_mask'][tf.newaxis, :]\n",
        "    batch_output = com_model.predict({'input_ids': input_ids, 'attention_mask': attention_mask})[0]\n",
        "    batch_pred = np.argmax(batch_output, axis=-1)\n",
        "    y_pred.append(batch_pred.item())\n",
        "\n",
        "y_true = np.array(test_labels)\n",
        "print(classification_report(y_true, y_pred))"
      ],
      "metadata": {
        "id": "GXlJ5DNV2DnA"
      },
      "execution_count": null,
      "outputs": []
    },
    {
      "cell_type": "code",
      "source": [
        "def plot_confusion_matrix(y_pred, y_true):\n",
        "  labels = [\"agreeable\",\"extraversion\",\"openness\",\"conscientiousness\",\"neuroticism\"]\n",
        "  y_pred_np = np.array(y_pred)\n",
        "  y_true_np = np.array(y_true)\n",
        "\n",
        "  cm = confusion_matrix(y_true_np, y_pred_np, normalize=\"true\", labels=range(len(labels)))\n",
        "  _, ax = plt.subplots(figsize=(5, 5))\n",
        "  disp = ConfusionMatrixDisplay(confusion_matrix=cm, display_labels=labels)\n",
        "  disp.plot(cmap=\"Blues\", values_format=\".2f\", ax=ax)\n",
        "  plt.title(\"Confusion Matrix\")\n",
        "  ax.set_xticklabels(labels, rotation=25, ha=\"right\")\n",
        "  plt.show()\n",
        "\n",
        "plot_confusion_matrix(y_pred, test_labels)"
      ],
      "metadata": {
        "id": "IQUHxznvyd0D"
      },
      "execution_count": null,
      "outputs": []
    },
    {
      "cell_type": "markdown",
      "metadata": {
        "id": "XbV6mTsrwZl_"
      },
      "source": [
        "# Save the model"
      ]
    },
    {
      "cell_type": "code",
      "source": [
        "com_model.save('distilbert_ocean')\n",
        "tokenizer.save_pretrained('distilbert_ocean/tokenizer')"
      ],
      "metadata": {
        "id": "kKgorlUlvaV9"
      },
      "execution_count": null,
      "outputs": []
    },
    {
      "cell_type": "markdown",
      "metadata": {
        "id": "iygE426xwZl_"
      },
      "source": [
        "# Loading Pre-Trained Model"
      ]
    },
    {
      "cell_type": "code",
      "source": [
        "# Load the model and tokenizer\n",
        "model_v = tf.keras.models.load_model('distilbert_ocean')\n",
        "tokenizer_v = DistilBertTokenizer.from_pretrained('distilbert_ocean/tokenizer')"
      ],
      "metadata": {
        "id": "gig1P2PbveOQ"
      },
      "execution_count": null,
      "outputs": []
    },
    {
      "cell_type": "code",
      "source": [
        "# sample test\n",
        "# example = \"I prefer not going out to crowded social events.\"\n",
        "example = \"I find it easy to trust others and believe in the inherent goodness of people.\"\n",
        "\n",
        "example_en = tokenizer_v(example, truncation=True, padding=True, return_tensors='tf')\n",
        "# output = model_v(example_en)[0]\n",
        "\n",
        "input_ids = example_en['input_ids']\n",
        "attention_mask = example_en['attention_mask']\n",
        "\n",
        "# Perform inference\n",
        "output = model_v.predict({'input_ids': input_ids, 'attention_mask': attention_mask})\n",
        "\n",
        "# Get predicted probabilities\n",
        "prob = tf.nn.softmax(output[0], axis=-1).numpy().tolist()\n",
        "print(prob)\n",
        "predicted_probabilities = tf.nn.softmax(output[0], axis=-1).numpy()\n",
        "print(\"Predicted Probabilities:\", predicted_probabilities)\n",
        "\n",
        "predicted_class = np.argmax(predicted_probabilities)\n",
        "print(\"Predicted Class:\", predicted_class)"
      ],
      "metadata": {
        "id": "qJGsyjQtvf3E"
      },
      "execution_count": null,
      "outputs": []
    },
    {
      "cell_type": "markdown",
      "source": [
        "## Test with example conversation"
      ],
      "metadata": {
        "id": "zdfQ0cHTxsFQ"
      }
    },
    {
      "cell_type": "code",
      "source": [
        "conversation = [\"I’m tired all the time, no matter how much sleep I get.\",\n",
        "                \"Sometimes I just want to disappear and not exist anymore.\",\n",
        "                \"It’s hard to concentrate or focus on anything.\",\n",
        "                \"I feel like I’m a burden to everyone around me.\",\n",
        "                \"Everything feels pointless and meaningless.\",\n",
        "                \"It’s like there’s a constant weight on my chest that won’t go away.\"]"
      ],
      "metadata": {
        "id": "icksCLnVxopw"
      },
      "execution_count": null,
      "outputs": []
    },
    {
      "cell_type": "code",
      "source": [
        "train_en = tokenizer_v(conversation, truncation=True, padding=True, return_tensors='tf')\n",
        "output = model_v(train_en)[0]\n",
        "predictions = np.argmax(output, axis=1)\n",
        "print(predictions)"
      ],
      "metadata": {
        "id": "BGPl6GvtyFQA",
        "colab": {
          "base_uri": "https://localhost:8080/"
        },
        "outputId": "4b84b3cc-704c-4aa1-ad3e-ff3b882faa07"
      },
      "execution_count": null,
      "outputs": [
        {
          "output_type": "stream",
          "name": "stdout",
          "text": [
            "[2 0 2 0 2 0]\n"
          ]
        }
      ]
    },
    {
      "cell_type": "code",
      "source": [
        "print(type(predictions))"
      ],
      "metadata": {
        "colab": {
          "base_uri": "https://localhost:8080/"
        },
        "id": "IAKsj59ZAI_T",
        "outputId": "8ffd5c0e-cf66-4b1f-acc5-ca4ab30a06de"
      },
      "execution_count": null,
      "outputs": [
        {
          "output_type": "stream",
          "name": "stdout",
          "text": [
            "<class 'numpy.ndarray'>\n"
          ]
        }
      ]
    }
  ],
  "metadata": {
    "kernelspec": {
      "display_name": "Python 3",
      "name": "python3"
    },
    "language_info": {
      "codemirror_mode": {
        "name": "ipython",
        "version": 3
      },
      "file_extension": ".py",
      "mimetype": "text/x-python",
      "name": "python",
      "nbconvert_exporter": "python",
      "pygments_lexer": "ipython3",
      "version": "3.9.14"
    },
    "vscode": {
      "interpreter": {
        "hash": "36cf16204b8548560b1c020c4e8fb5b57f0e4c58016f52f2d4be01e192833930"
      }
    },
    "colab": {
      "provenance": [],
      "gpuType": "T4",
      "include_colab_link": true
    },
    "accelerator": "GPU"
  },
  "nbformat": 4,
  "nbformat_minor": 0
}
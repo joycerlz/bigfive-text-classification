{
  "nbformat": 4,
  "nbformat_minor": 0,
  "metadata": {
    "colab": {
      "provenance": [],
      "authorship_tag": "ABX9TyOnVfiiQZt6J50bfP+m8ZF5",
      "include_colab_link": true
    },
    "kernelspec": {
      "name": "python3",
      "display_name": "Python 3"
    },
    "language_info": {
      "name": "python"
    }
  },
  "cells": [
    {
      "cell_type": "markdown",
      "metadata": {
        "id": "view-in-github",
        "colab_type": "text"
      },
      "source": [
        "<a href=\"https://colab.research.google.com/github/joycerlz/distilbert-text-classification/blob/main/clean_bigfive.ipynb\" target=\"_parent\"><img src=\"https://colab.research.google.com/assets/colab-badge.svg\" alt=\"Open In Colab\"/></a>"
      ]
    },
    {
      "cell_type": "markdown",
      "source": [
        "## Combine the two data files\n",
        "\n",
        "Combine big_five_scores.csv and trait_scoring_keys.csv\n",
        "\n",
        "Discard the uncessary columns and encode the labels to integers 0-4\n",
        "\n",
        "\n",
        "\n",
        "*   0 : agreeable\n",
        "*   1 : extraversion\n",
        "*   2 : openness\n",
        "*   3 : conscientiousness\n",
        "*   4 : neuroticism\n",
        "\n",
        "Resulting file: big_five_combined.csv\n",
        "\n"
      ],
      "metadata": {
        "id": "JYzvqYKrCY2I"
      }
    },
    {
      "cell_type": "code",
      "execution_count": null,
      "metadata": {
        "id": "dlWXTNvXCCi8"
      },
      "outputs": [],
      "source": [
        "import pandas as pd\n",
        "import random\n",
        "import nltk\n",
        "from nltk.corpus import wordnet"
      ]
    },
    {
      "cell_type": "code",
      "source": [
        "df1 = pd.read_csv('big_five_scores.csv',header=0)\n",
        "df2 = pd.read_csv('trait_scoring_keys.csv',header=0)"
      ],
      "metadata": {
        "id": "e8s5HqnsCQYI"
      },
      "execution_count": null,
      "outputs": []
    },
    {
      "cell_type": "code",
      "source": [
        "df1['max_personality'] = df1[['agreeable_score', 'extraversion_score', 'openness_score', 'conscientiousness_score', 'neuroticism_score']].apply(lambda row: row.idxmax(), axis=1)"
      ],
      "metadata": {
        "id": "w31vwyfLCXkM"
      },
      "execution_count": null,
      "outputs": []
    },
    {
      "cell_type": "code",
      "source": [
        "def quantify_personality(row):\n",
        "  if row['max_personality']=='agreeable_score':\n",
        "    return 0\n",
        "  elif row['max_personality']=='extraversion_score':\n",
        "    return 1\n",
        "  elif row['max_personality']=='openness_score':\n",
        "    return 2\n",
        "  elif row['max_personality']=='conscientiousness_score':\n",
        "    return 3\n",
        "  else:\n",
        "    return 4"
      ],
      "metadata": {
        "id": "AdNeOWiyCX90"
      },
      "execution_count": null,
      "outputs": []
    },
    {
      "cell_type": "code",
      "source": [
        "df1['personality'] = df1.apply(quantify_personality,axis=1)\n",
        "df1['id'] = df1['case_id']\n",
        "\n",
        "df_total = pd.merge(df1, df2, on='id')\n",
        "\n",
        "df = pd.DataFrame()\n",
        "df['item'] = df_total['item']\n",
        "df['personality'] = df_total['personality']"
      ],
      "metadata": {
        "id": "9nj0TiQbEGll"
      },
      "execution_count": null,
      "outputs": []
    },
    {
      "cell_type": "code",
      "source": [
        "df.to_csv('big_five_combined.csv', index=False)"
      ],
      "metadata": {
        "id": "zB1NntrNENFn"
      },
      "execution_count": null,
      "outputs": []
    },
    {
      "cell_type": "markdown",
      "source": [
        "## Manuel oversampling & data augmentation\n",
        "\n",
        "This section was used to oversample the big five dataset by duplicating the rows, then create even more new rows using data augmentation by randomly swapping words or replacing words with their synonym\n",
        "\n",
        "Resulting file: augmented_df.csv"
      ],
      "metadata": {
        "id": "b0SSYsKgEl_A"
      }
    },
    {
      "cell_type": "code",
      "source": [
        "df = pd.read_csv('big_five_combined.csv',header=0)"
      ],
      "metadata": {
        "id": "AeLOPWaCFtse"
      },
      "execution_count": null,
      "outputs": []
    },
    {
      "cell_type": "markdown",
      "source": [
        "Duplicating rows"
      ],
      "metadata": {
        "id": "ulKWFY2cF6-p"
      }
    },
    {
      "cell_type": "code",
      "source": [
        "# Split on label 0\n",
        "df_min = df[df['personality'] == 0]\n",
        "df_max = df[df['personality'] != 0]\n",
        "df_0_over = pd.concat([df_min, df_min]).reset_index(drop=True)  #  *2\n",
        "df_over = pd.concat([df_0_over, df_max]).reset_index(drop=True)\n",
        "\n",
        "# Split on label 1\n",
        "df_min = df_over[df_over['personality'] == 1]\n",
        "df_max = df_over[df_over['personality'] != 1]\n",
        "df_1_over = pd.concat([df_min, df_min, df_min]).reset_index(drop=True)  #  *3\n",
        "df_over = pd.concat([df_1_over, df_max]).reset_index(drop=True)\n",
        "\n",
        "# Split on label 3\n",
        "df_min = df_over[df_over['personality'] == 3]\n",
        "df_max = df_over[df_over['personality'] != 3]\n",
        "df_3_over = pd.concat([df_min, df_min]).reset_index(drop=True)  #  *2\n",
        "df_over = pd.concat([df_3_over, df_max]).reset_index(drop=True)\n",
        "\n",
        "# Split on label 4\n",
        "df_min = df_over[df_over['personality'] == 4]\n",
        "df_max = df_over[df_over['personality'] != 4]\n",
        "df_4_over = pd.concat([df_min, df_min, df_min, df_min]).reset_index(drop=True)  #  *4\n",
        "df_over = pd.concat([df_4_over, df_max]).reset_index(drop=True)"
      ],
      "metadata": {
        "id": "E8VJ2X7jEqnc"
      },
      "execution_count": null,
      "outputs": []
    },
    {
      "cell_type": "code",
      "source": [
        "df_over['text'] = df_over['item']\n",
        "df_over['labels'] = df_over['personality']\n",
        "df_over.drop(['item', 'personality'], axis=1, inplace=True)\n",
        "df_over.head()"
      ],
      "metadata": {
        "colab": {
          "base_uri": "https://localhost:8080/",
          "height": 206
        },
        "id": "4LbD_6BsHAqF",
        "outputId": "09199c9b-09ce-4bbe-9558-311628a3fdd6"
      },
      "execution_count": null,
      "outputs": [
        {
          "output_type": "execute_result",
          "data": {
            "text/plain": [
              "                                                text  labels\n",
              "0                             Am easily intimidated.       4\n",
              "1                              Get irritated easily.       4\n",
              "2                                Am always prepared.       4\n",
              "3  Feel sympathy for those who are worse off than...       4\n",
              "4                                  Get upset easily.       4"
            ],
            "text/html": [
              "\n",
              "  <div id=\"df-93f0e5ea-b428-429d-8696-515206a13d36\" class=\"colab-df-container\">\n",
              "    <div>\n",
              "<style scoped>\n",
              "    .dataframe tbody tr th:only-of-type {\n",
              "        vertical-align: middle;\n",
              "    }\n",
              "\n",
              "    .dataframe tbody tr th {\n",
              "        vertical-align: top;\n",
              "    }\n",
              "\n",
              "    .dataframe thead th {\n",
              "        text-align: right;\n",
              "    }\n",
              "</style>\n",
              "<table border=\"1\" class=\"dataframe\">\n",
              "  <thead>\n",
              "    <tr style=\"text-align: right;\">\n",
              "      <th></th>\n",
              "      <th>text</th>\n",
              "      <th>labels</th>\n",
              "    </tr>\n",
              "  </thead>\n",
              "  <tbody>\n",
              "    <tr>\n",
              "      <th>0</th>\n",
              "      <td>Am easily intimidated.</td>\n",
              "      <td>4</td>\n",
              "    </tr>\n",
              "    <tr>\n",
              "      <th>1</th>\n",
              "      <td>Get irritated easily.</td>\n",
              "      <td>4</td>\n",
              "    </tr>\n",
              "    <tr>\n",
              "      <th>2</th>\n",
              "      <td>Am always prepared.</td>\n",
              "      <td>4</td>\n",
              "    </tr>\n",
              "    <tr>\n",
              "      <th>3</th>\n",
              "      <td>Feel sympathy for those who are worse off than...</td>\n",
              "      <td>4</td>\n",
              "    </tr>\n",
              "    <tr>\n",
              "      <th>4</th>\n",
              "      <td>Get upset easily.</td>\n",
              "      <td>4</td>\n",
              "    </tr>\n",
              "  </tbody>\n",
              "</table>\n",
              "</div>\n",
              "    <div class=\"colab-df-buttons\">\n",
              "\n",
              "  <div class=\"colab-df-container\">\n",
              "    <button class=\"colab-df-convert\" onclick=\"convertToInteractive('df-93f0e5ea-b428-429d-8696-515206a13d36')\"\n",
              "            title=\"Convert this dataframe to an interactive table.\"\n",
              "            style=\"display:none;\">\n",
              "\n",
              "  <svg xmlns=\"http://www.w3.org/2000/svg\" height=\"24px\" viewBox=\"0 -960 960 960\">\n",
              "    <path d=\"M120-120v-720h720v720H120Zm60-500h600v-160H180v160Zm220 220h160v-160H400v160Zm0 220h160v-160H400v160ZM180-400h160v-160H180v160Zm440 0h160v-160H620v160ZM180-180h160v-160H180v160Zm440 0h160v-160H620v160Z\"/>\n",
              "  </svg>\n",
              "    </button>\n",
              "\n",
              "  <style>\n",
              "    .colab-df-container {\n",
              "      display:flex;\n",
              "      gap: 12px;\n",
              "    }\n",
              "\n",
              "    .colab-df-convert {\n",
              "      background-color: #E8F0FE;\n",
              "      border: none;\n",
              "      border-radius: 50%;\n",
              "      cursor: pointer;\n",
              "      display: none;\n",
              "      fill: #1967D2;\n",
              "      height: 32px;\n",
              "      padding: 0 0 0 0;\n",
              "      width: 32px;\n",
              "    }\n",
              "\n",
              "    .colab-df-convert:hover {\n",
              "      background-color: #E2EBFA;\n",
              "      box-shadow: 0px 1px 2px rgba(60, 64, 67, 0.3), 0px 1px 3px 1px rgba(60, 64, 67, 0.15);\n",
              "      fill: #174EA6;\n",
              "    }\n",
              "\n",
              "    .colab-df-buttons div {\n",
              "      margin-bottom: 4px;\n",
              "    }\n",
              "\n",
              "    [theme=dark] .colab-df-convert {\n",
              "      background-color: #3B4455;\n",
              "      fill: #D2E3FC;\n",
              "    }\n",
              "\n",
              "    [theme=dark] .colab-df-convert:hover {\n",
              "      background-color: #434B5C;\n",
              "      box-shadow: 0px 1px 3px 1px rgba(0, 0, 0, 0.15);\n",
              "      filter: drop-shadow(0px 1px 2px rgba(0, 0, 0, 0.3));\n",
              "      fill: #FFFFFF;\n",
              "    }\n",
              "  </style>\n",
              "\n",
              "    <script>\n",
              "      const buttonEl =\n",
              "        document.querySelector('#df-93f0e5ea-b428-429d-8696-515206a13d36 button.colab-df-convert');\n",
              "      buttonEl.style.display =\n",
              "        google.colab.kernel.accessAllowed ? 'block' : 'none';\n",
              "\n",
              "      async function convertToInteractive(key) {\n",
              "        const element = document.querySelector('#df-93f0e5ea-b428-429d-8696-515206a13d36');\n",
              "        const dataTable =\n",
              "          await google.colab.kernel.invokeFunction('convertToInteractive',\n",
              "                                                    [key], {});\n",
              "        if (!dataTable) return;\n",
              "\n",
              "        const docLinkHtml = 'Like what you see? Visit the ' +\n",
              "          '<a target=\"_blank\" href=https://colab.research.google.com/notebooks/data_table.ipynb>data table notebook</a>'\n",
              "          + ' to learn more about interactive tables.';\n",
              "        element.innerHTML = '';\n",
              "        dataTable['output_type'] = 'display_data';\n",
              "        await google.colab.output.renderOutput(dataTable, element);\n",
              "        const docLink = document.createElement('div');\n",
              "        docLink.innerHTML = docLinkHtml;\n",
              "        element.appendChild(docLink);\n",
              "      }\n",
              "    </script>\n",
              "  </div>\n",
              "\n",
              "\n",
              "<div id=\"df-877544bb-bdeb-4a83-80f7-f30fe200836b\">\n",
              "  <button class=\"colab-df-quickchart\" onclick=\"quickchart('df-877544bb-bdeb-4a83-80f7-f30fe200836b')\"\n",
              "            title=\"Suggest charts\"\n",
              "            style=\"display:none;\">\n",
              "\n",
              "<svg xmlns=\"http://www.w3.org/2000/svg\" height=\"24px\"viewBox=\"0 0 24 24\"\n",
              "     width=\"24px\">\n",
              "    <g>\n",
              "        <path d=\"M19 3H5c-1.1 0-2 .9-2 2v14c0 1.1.9 2 2 2h14c1.1 0 2-.9 2-2V5c0-1.1-.9-2-2-2zM9 17H7v-7h2v7zm4 0h-2V7h2v10zm4 0h-2v-4h2v4z\"/>\n",
              "    </g>\n",
              "</svg>\n",
              "  </button>\n",
              "\n",
              "<style>\n",
              "  .colab-df-quickchart {\n",
              "      --bg-color: #E8F0FE;\n",
              "      --fill-color: #1967D2;\n",
              "      --hover-bg-color: #E2EBFA;\n",
              "      --hover-fill-color: #174EA6;\n",
              "      --disabled-fill-color: #AAA;\n",
              "      --disabled-bg-color: #DDD;\n",
              "  }\n",
              "\n",
              "  [theme=dark] .colab-df-quickchart {\n",
              "      --bg-color: #3B4455;\n",
              "      --fill-color: #D2E3FC;\n",
              "      --hover-bg-color: #434B5C;\n",
              "      --hover-fill-color: #FFFFFF;\n",
              "      --disabled-bg-color: #3B4455;\n",
              "      --disabled-fill-color: #666;\n",
              "  }\n",
              "\n",
              "  .colab-df-quickchart {\n",
              "    background-color: var(--bg-color);\n",
              "    border: none;\n",
              "    border-radius: 50%;\n",
              "    cursor: pointer;\n",
              "    display: none;\n",
              "    fill: var(--fill-color);\n",
              "    height: 32px;\n",
              "    padding: 0;\n",
              "    width: 32px;\n",
              "  }\n",
              "\n",
              "  .colab-df-quickchart:hover {\n",
              "    background-color: var(--hover-bg-color);\n",
              "    box-shadow: 0 1px 2px rgba(60, 64, 67, 0.3), 0 1px 3px 1px rgba(60, 64, 67, 0.15);\n",
              "    fill: var(--button-hover-fill-color);\n",
              "  }\n",
              "\n",
              "  .colab-df-quickchart-complete:disabled,\n",
              "  .colab-df-quickchart-complete:disabled:hover {\n",
              "    background-color: var(--disabled-bg-color);\n",
              "    fill: var(--disabled-fill-color);\n",
              "    box-shadow: none;\n",
              "  }\n",
              "\n",
              "  .colab-df-spinner {\n",
              "    border: 2px solid var(--fill-color);\n",
              "    border-color: transparent;\n",
              "    border-bottom-color: var(--fill-color);\n",
              "    animation:\n",
              "      spin 1s steps(1) infinite;\n",
              "  }\n",
              "\n",
              "  @keyframes spin {\n",
              "    0% {\n",
              "      border-color: transparent;\n",
              "      border-bottom-color: var(--fill-color);\n",
              "      border-left-color: var(--fill-color);\n",
              "    }\n",
              "    20% {\n",
              "      border-color: transparent;\n",
              "      border-left-color: var(--fill-color);\n",
              "      border-top-color: var(--fill-color);\n",
              "    }\n",
              "    30% {\n",
              "      border-color: transparent;\n",
              "      border-left-color: var(--fill-color);\n",
              "      border-top-color: var(--fill-color);\n",
              "      border-right-color: var(--fill-color);\n",
              "    }\n",
              "    40% {\n",
              "      border-color: transparent;\n",
              "      border-right-color: var(--fill-color);\n",
              "      border-top-color: var(--fill-color);\n",
              "    }\n",
              "    60% {\n",
              "      border-color: transparent;\n",
              "      border-right-color: var(--fill-color);\n",
              "    }\n",
              "    80% {\n",
              "      border-color: transparent;\n",
              "      border-right-color: var(--fill-color);\n",
              "      border-bottom-color: var(--fill-color);\n",
              "    }\n",
              "    90% {\n",
              "      border-color: transparent;\n",
              "      border-bottom-color: var(--fill-color);\n",
              "    }\n",
              "  }\n",
              "</style>\n",
              "\n",
              "  <script>\n",
              "    async function quickchart(key) {\n",
              "      const quickchartButtonEl =\n",
              "        document.querySelector('#' + key + ' button');\n",
              "      quickchartButtonEl.disabled = true;  // To prevent multiple clicks.\n",
              "      quickchartButtonEl.classList.add('colab-df-spinner');\n",
              "      try {\n",
              "        const charts = await google.colab.kernel.invokeFunction(\n",
              "            'suggestCharts', [key], {});\n",
              "      } catch (error) {\n",
              "        console.error('Error during call to suggestCharts:', error);\n",
              "      }\n",
              "      quickchartButtonEl.classList.remove('colab-df-spinner');\n",
              "      quickchartButtonEl.classList.add('colab-df-quickchart-complete');\n",
              "    }\n",
              "    (() => {\n",
              "      let quickchartButtonEl =\n",
              "        document.querySelector('#df-877544bb-bdeb-4a83-80f7-f30fe200836b button');\n",
              "      quickchartButtonEl.style.display =\n",
              "        google.colab.kernel.accessAllowed ? 'block' : 'none';\n",
              "    })();\n",
              "  </script>\n",
              "</div>\n",
              "    </div>\n",
              "  </div>\n"
            ],
            "application/vnd.google.colaboratory.intrinsic+json": {
              "type": "dataframe",
              "variable_name": "df_over",
              "summary": "{\n  \"name\": \"df_over\",\n  \"rows\": 555,\n  \"fields\": [\n    {\n      \"column\": \"text\",\n      \"properties\": {\n        \"dtype\": \"category\",\n        \"num_unique_values\": 274,\n        \"samples\": [\n          \"Love excitement.\",\n          \"Avoid contacts with others.\",\n          \"Prefer variety to routine.\"\n        ],\n        \"semantic_type\": \"\",\n        \"description\": \"\"\n      }\n    },\n    {\n      \"column\": \"labels\",\n      \"properties\": {\n        \"dtype\": \"number\",\n        \"std\": 1,\n        \"min\": 0,\n        \"max\": 4,\n        \"num_unique_values\": 5,\n        \"samples\": [\n          3,\n          2,\n          1\n        ],\n        \"semantic_type\": \"\",\n        \"description\": \"\"\n      }\n    }\n  ]\n}"
            }
          },
          "metadata": {},
          "execution_count": 17
        }
      ]
    },
    {
      "cell_type": "markdown",
      "source": [
        "Data augmentation"
      ],
      "metadata": {
        "id": "AUIR6_y2F8qb"
      }
    },
    {
      "cell_type": "code",
      "source": [
        "nltk.download('wordnet')"
      ],
      "metadata": {
        "id": "mB6qRMKtF_qc"
      },
      "execution_count": null,
      "outputs": []
    },
    {
      "cell_type": "code",
      "source": [
        "# Function to perform synonym replacement\n",
        "def synonym_replacement(sentence):\n",
        "    words = sentence.split()\n",
        "    new_words = list(words)\n",
        "    for i in range(len(words)):\n",
        "        syns = wordnet.synsets(words[i])\n",
        "        if syns:\n",
        "            synonym = syns[0].lemmas()[0].name()  # Get the first synonym\n",
        "            if synonym != words[i]:\n",
        "                new_words[i] = synonym\n",
        "    return ' '.join(new_words)\n",
        "\n",
        "# Function to perform random swap\n",
        "def random_swap(sentence, n=1):\n",
        "    words = sentence.split()\n",
        "    for _ in range(n):\n",
        "        idx1, idx2 = random.sample(range(len(words)), 2)\n",
        "        words[idx1], words[idx2] = words[idx2], words[idx1]\n",
        "    return ' '.join(words)\n",
        "\n",
        "# Oversample both text and labels\n",
        "def oversample_data(df, augmentation_factor=1):\n",
        "    augmented_data = []\n",
        "    for index, row in df.iterrows():\n",
        "        text = row['text']\n",
        "        label = row['labels']\n",
        "        for _ in range(augmentation_factor):\n",
        "            augmented_text = random.choice([synonym_replacement(text), random_swap(text)])\n",
        "            augmented_data.append({'text': augmented_text, 'labels': label})\n",
        "        augmented_df = pd.DataFrame(augmented_data)\n",
        "    return pd.concat([df, augmented_df], ignore_index=True)"
      ],
      "metadata": {
        "id": "86I8P6txGIxo"
      },
      "execution_count": null,
      "outputs": []
    },
    {
      "cell_type": "code",
      "source": [
        "# Example usage\n",
        "sentence = \"dislike new foods\"\n",
        "augmented_sentence = synonym_replacement(sentence)\n",
        "print(\"Synonym Replacement:\", augmented_sentence)\n",
        "\n",
        "augmented_sentence = random_swap(sentence, n=1)\n",
        "print(\"Random Swap:\", augmented_sentence)"
      ],
      "metadata": {
        "colab": {
          "base_uri": "https://localhost:8080/"
        },
        "id": "4H0I-M03GJVq",
        "outputId": "e75e7319-4dfa-4bd0-ff33-2405e8486130"
      },
      "execution_count": null,
      "outputs": [
        {
          "output_type": "stream",
          "name": "stdout",
          "text": [
            "Synonym Replacement: disfavor new food\n",
            "Random Swap: foods new dislike\n"
          ]
        }
      ]
    },
    {
      "cell_type": "code",
      "source": [
        "# apply to df\n",
        "augmented_df = oversample_data(df_over, augmentation_factor=2)\n",
        "augmented_df['labels'].value_counts()"
      ],
      "metadata": {
        "colab": {
          "base_uri": "https://localhost:8080/"
        },
        "id": "39g0lTDOGSK9",
        "outputId": "04250c22-0bc5-4a47-f27b-a61e5ed116fb"
      },
      "execution_count": null,
      "outputs": [
        {
          "output_type": "execute_result",
          "data": {
            "text/plain": [
              "1    396\n",
              "3    378\n",
              "0    330\n",
              "4    300\n",
              "2    261\n",
              "Name: labels, dtype: int64"
            ]
          },
          "metadata": {},
          "execution_count": 23
        }
      ]
    },
    {
      "cell_type": "code",
      "source": [
        "augmented_df.to_csv('augmented_df.csv', index=False)"
      ],
      "metadata": {
        "id": "deJhAtXMGZ2M"
      },
      "execution_count": null,
      "outputs": []
    }
  ]
}
